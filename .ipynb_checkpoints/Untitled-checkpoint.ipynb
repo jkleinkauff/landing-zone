{
 "cells": [
  {
   "cell_type": "code",
   "execution_count": 4,
   "id": "3401e81d",
   "metadata": {},
   "outputs": [],
   "source": [
    "#Import python modules\n",
    "from datetime import datetime"
   ]
  },
  {
   "cell_type": "code",
   "execution_count": 2,
   "id": "919da1da",
   "metadata": {},
   "outputs": [],
   "source": [
    "#Import pyspark modules\n",
    "from pyspark.context import SparkContext\n",
    "import pyspark.sql.functions as f"
   ]
  },
  {
   "cell_type": "code",
   "execution_count": null,
   "id": "a5b80274",
   "metadata": {},
   "outputs": [],
   "source": [
    "aws_id = \"\"\n",
    "aws_key = \"\""
   ]
  },
  {
   "cell_type": "code",
   "execution_count": 5,
   "id": "ae8b2d72",
   "metadata": {},
   "outputs": [],
   "source": [
    "spark_context = SparkContext.getOrCreate()"
   ]
  },
  {
   "cell_type": "code",
   "execution_count": 6,
   "id": "ea7be85f",
   "metadata": {},
   "outputs": [
    {
     "ename": "NameError",
     "evalue": "name 'aws_id' is not defined",
     "output_type": "error",
     "traceback": [
      "\u001b[0;31m---------------------------------------------------------------------------\u001b[0m",
      "\u001b[0;31mNameError\u001b[0m                                 Traceback (most recent call last)",
      "\u001b[0;32m<ipython-input-6-e761fd041bba>\u001b[0m in \u001b[0;36m<module>\u001b[0;34m\u001b[0m\n\u001b[0;32m----> 1\u001b[0;31m \u001b[0mspark_context\u001b[0m\u001b[0;34m.\u001b[0m\u001b[0m_jsc\u001b[0m\u001b[0;34m.\u001b[0m\u001b[0mhadoopConfiguration\u001b[0m\u001b[0;34m(\u001b[0m\u001b[0;34m)\u001b[0m\u001b[0;34m.\u001b[0m\u001b[0mset\u001b[0m\u001b[0;34m(\u001b[0m\u001b[0;34m\"fs.s3n.awsAccessKeyId\"\u001b[0m\u001b[0;34m,\u001b[0m \u001b[0maws_id\u001b[0m\u001b[0;34m)\u001b[0m\u001b[0;34m\u001b[0m\u001b[0;34m\u001b[0m\u001b[0m\n\u001b[0m",
      "\u001b[0;31mNameError\u001b[0m: name 'aws_id' is not defined"
     ]
    }
   ],
   "source": [
    "spark_context._jsc.hadoopConfiguration().set(\"fs.s3n.awsAccessKeyId\", aws_id)\n",
    "spark_context._jsc.hadoopConfiguration().set(\"fs.s3n.awsSecretAccessKey\", aws_id)"
   ]
  }
 ],
 "metadata": {
  "kernelspec": {
   "display_name": "Python 3",
   "language": "python",
   "name": "python3"
  },
  "language_info": {
   "codemirror_mode": {
    "name": "ipython",
    "version": 3
   },
   "file_extension": ".py",
   "mimetype": "text/x-python",
   "name": "python",
   "nbconvert_exporter": "python",
   "pygments_lexer": "ipython3",
   "version": "3.9.4"
  }
 },
 "nbformat": 4,
 "nbformat_minor": 5
}
